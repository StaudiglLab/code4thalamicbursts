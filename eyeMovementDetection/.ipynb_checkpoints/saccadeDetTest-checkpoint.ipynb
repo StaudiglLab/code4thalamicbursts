{
 "cells": [
  {
   "cell_type": "code",
   "execution_count": 14,
   "id": "25c682c9",
   "metadata": {},
   "outputs": [],
   "source": [
    "import os\n",
    "import git,sys\n",
    "repo = git.Repo('.', search_parent_directories=True)\n",
    "sys.path.append(repo.working_tree_dir)\n",
    "\n",
    "import os\n",
    "import mne\n",
    "import scipy\n",
    "import matplotlib.pyplot as plt\n",
    "from scipy.signal import medfilt,find_peaks\n",
    "import pandas as pd\n",
    "from numba import njit,jit\n",
    "import numpy as np\n",
    "from scipy.signal import medfilt\n",
    "from sklearn.decomposition import PCA\n",
    "from scipy.interpolate import interp1d\n",
    "from sklearn.cluster import KMeans\n",
    "\n",
    "from core import *\n",
    "from core.helpers import *\n",
    "\n",
    "def getAngle(x,y,z,baseline):\n",
    "\tx=x-baseline[0]\n",
    "\ty=y-baseline[1]\n",
    "\tangle=np.degrees(np.arctan2(np.sign(x)*np.sqrt(x**2+y**2),baseline[2]))\n",
    "\treturn angle\n",
    "\n",
    "@njit\n",
    "def getPeakLocations(x,startIndx,stopIndx):\n",
    "\tpeaks=np.zeros_like(startIndx)\n",
    "\tfor ipeak in range(0,len(peaks)):\n",
    "\t\tpeaks[ipeak]=startIndx[ipeak]+np.argmax(np.abs(x[startIndx[ipeak]:stopIndx[ipeak]]))\n",
    "\treturn peaks\n",
    "\t\n",
    "def _getSaccadeParams(angle,velocity,minVelocity,minWidth,maxWidth,velocityDetectionThreshold):\n",
    "\t#peaks,_=find_peaks(np.abs(velocity),height=minVelocity,distance=minSeperation)\n",
    "\tmaskVelThreshPos=velocity>=velocityDetectionThreshold\n",
    "\tstartIndxPos,widthPos=getClustersFromMask(maskVelThreshPos)\n",
    "\tmaskVelThreshNeg=velocity<=-velocityDetectionThreshold\n",
    "\tstartIndxNeg,widthNeg=getClustersFromMask(maskVelThreshNeg)\n",
    "\n",
    "\tstartIndx=np.append(startIndxPos,startIndxNeg)\n",
    "\twidth=np.append(widthPos,widthNeg)\t\n",
    "\tstopIndx=startIndx+width\n",
    "\tpeaks=getPeakLocations(velocity,startIndx,stopIndx)\t\n",
    "\t\n",
    "\tmaskSel=np.logical_and(np.logical_and(width>minWidth,width<maxWidth),np.abs(velocity[peaks])>minVelocity)\n",
    "\tpeaks=peaks[maskSel]\n",
    "\tstartIndx=startIndx[maskSel]\n",
    "\tstopIndx=stopIndx[maskSel]\t\n",
    "\tsaccadeParams=pd.DataFrame(np.zeros((len(peaks),6))*np.nan, columns=['peakVelocityIndex', 'peakVelocity','onsetIndex','offsetIndex','baselineAngle','amplitude'])\n",
    "\tpostSaccadeDeviation=np.zeros((len(peaks)))\n",
    "\tfor ipeak in range(0,len(peaks)):\n",
    "\t\t\n",
    "\t\tton,toff=startIndx[ipeak],stopIndx[ipeak]\n",
    "\t\tsaccadeParams['peakVelocity'][ipeak],saccadeParams['peakVelocityIndex'][ipeak]=velocity[peaks[ipeak]],peaks[ipeak]\n",
    "\t\tsaccadeParams['onsetIndex'][ipeak],saccadeParams['offsetIndex'][ipeak]=ton,toff\n",
    "\t\tsaccadeParams['baselineAngle'][ipeak]=angle[ton]\n",
    "\t\tsaccadeParams['amplitude'][ipeak]=angle[toff]-saccadeParams['baselineAngle'][ipeak]\n",
    "\treturn saccadeParams #[ampMask]\n",
    "\n",
    "\n",
    "\n",
    "@njit\n",
    "def getMaxVelocityAroundEvents(velocity,ton,toff,window):\n",
    "\tmaxVel=np.zeros(len(ton))\n",
    "\tabsVel=np.abs(velocity)\n",
    "\tfor i in range(0,len(ton)):\n",
    "\t\tmaxVel[i]=max(np.max(absVel[ton[i]-window:ton[i]]),np.max(absVel[toff[i]:toff[i]+window]))\n",
    "\treturn maxVel\n",
    "\t\n",
    "@njit\n",
    "def getMeanAngleAroundEvents(angle,ton,toff,window):\n",
    "\tmaxVel=np.zeros(len(ton))\n",
    "\tfor i in range(0,len(ton)):\n",
    "\t\tmaxVel[i]=max(abs(np.mean(angle[ton[i]-window:ton[i]])),abs(np.mean(angle[toff[i]:toff[i]+window])))/max(abs(angle[ton[i]]),abs(angle[toff[i]]))\n",
    "\treturn maxVel\n",
    "@njit\n",
    "def getDeflectionRatio(d1,d2,ton,toff):\n",
    "\tratio=np.zeros(len(ton))\n",
    "\tfor i in range(0,len(ratio)):\n",
    "\t\tratio[i]=np.max(np.abs(d1[ton[i]:toff[i]]))/np.max(np.abs(d2[ton[i]:toff[i]]))\n",
    "\treturn ratio\n",
    "\n",
    "\n",
    "@njit\n",
    "def getTimeToZero(angle,ton,toff,window):\n",
    "\ttimeToZero=np.zeros(len(ton))\n",
    "\tabsAngle=np.abs(angle)\n",
    "\tfor i in range(0,len(timeToZero)):\n",
    "\t\tj=ton[i]\n",
    "\t\tsign=np.sign(angle[tpeak[i]])\t\t\t\n",
    "\t\twhile(angle[j]*sign>0):\n",
    "\t\t\tj-=1\n",
    "\t\tk=toff[i]\t\t\t\n",
    "\t\twhile(angle[k]*sign>0):\n",
    "\t\t\tk+=1\n",
    "\t\ttimeToZero[i]=max(ton[i]-j,k-toff[i])\n",
    "\treturn timeToZero\n",
    "\n",
    "@njit\t\n",
    "def getDerivativeAtEvents(data,tstamps,windowLength):\n",
    "\tslope=np.zeros((len(tstamps),len(data)))\n",
    "\twinByTwo=windowLength//2\n",
    "\tt=np.arange(-winByTwo,winByTwo+1)\n",
    "\tfor i in range(len(tstamps)):\n",
    "\t\tslope[i]=np.sum(t*data[:,tstamps[i]-winByTwo:tstamps[i]+winByTwo+1],axis=1)\n",
    "\treturn slope\n",
    "\n",
    "@njit\t\n",
    "def getDeflectionAtEvents(data,ton,toff):\n",
    "\tslope=np.zeros((len(ton),len(data)))\n",
    "\tfor i in range(len(ton)):\n",
    "\t\tslope[i]=(data[:,ton[i]]-data[:,toff[i]])/(ton[i]-toff[i])\n",
    "\treturn slope\n",
    "\n",
    "def interpolateNaN(x,nanLengthThreshold=100):\n",
    "\tnanMask=np.isnan(x)\t\n",
    "\tif(np.sum(nanMask)>0):\n",
    "\t\tnotNanMask=np.logical_not(nanMask)\n",
    "\t\tif(np.sum(notNanMask)<4):\n",
    "\t\t\treturn x\n",
    "\t\ttimes=np.arange(len(x))\n",
    "\t\tstart,width=getClustersFromMask(nanMask)\n",
    "\t\tstart=start[width>nanLengthThreshold]\n",
    "\t\twidth=width[width>nanLengthThreshold]\n",
    "\t\tx=interp1d(times[notNanMask],x[notNanMask],kind='linear',bounds_error=False)(times)\n",
    "\t\tfor i in range(0,len(width)):\n",
    "\t\t\tx[start[i]:start[i]+width[i]]=np.nan\n",
    "\treturn x\n",
    "\t\n",
    "def plotCrossCorrSummary(templateTopo,info,crossCorr,sleepScoreEvents,crossCorrThreshold):\n",
    "\tfig,axs=plt.subplots(nrows=1,ncols=2,figsize=(8,4))\t\n",
    "\tmne.viz.plot_topomap(templateTopo, info,axes=axs[0],show=False)\t\n",
    "\tfor i in range(len(sleepLabels)):\n",
    "\t\taxs[1].hist(np.abs(crossCorr[sleepScoringList[i]==sleepScoreEvents]),bins=np.arange(0,1.1,0.05),label=sleepLabels[i],density=True, histtype='step')\n",
    "\taxs[1].axvline(crossCorrThreshold,ls='--',c='black')\n",
    "\tplt.legend()\n",
    "\treturn fig\n",
    "def plotSaccadeRate(saccadeTimes,taxis,sleepScore):\n",
    "\tfig,ax=plt.subplots(nrows=1,ncols=1,figsize=(10,4),sharex=True)\n",
    "\tax2=ax.twinx()\n",
    "\tsleepScore[sleepScore>5]=np.nan\n",
    "\tax.hist(saccadeTimes/3600.,bins=np.arange(np.min(taxis)/3600.,np.max(taxis)/3600.,10/60.))\t\n",
    "\tax2.plot(taxis/3600.,sleepScore,c='black')\n",
    "\tax2.set_yticks(sleepScoringList,sleepLabels)\t\n",
    "\tax.set_yticks(ticks=ax.get_yticks(),labels=ax.get_yticks()/10.)\n",
    "\tax.minorticks_on()\n",
    "\tax.set_ylabel(\"saccade rate(/min)\")\n",
    "\tax.set_xlabel(\"Time (hour)\")\t\n",
    "\treturn fig"
   ]
  },
  {
   "cell_type": "code",
   "execution_count": 15,
   "id": "759ed095",
   "metadata": {},
   "outputs": [],
   "source": [
    "def getSaccadeParamsFromICA(subID,filtwindow=8,MADwindowInMinutes=5.0,\n",
    "\t\t\tminVelocity=7,minWidth=1,maxWidthInSec=0.5,\n",
    "\t\t\tminAmplitude=7,templateThreshold=10,crossCorrThreshold=0.9,\n",
    "\t\t\tvelocityDetectionThreshold=2,templateSleepScore=[0,5],\n",
    "\t\t\tresampling=100.0,highPassFilter=50.0,summaryPlot=False,getvelocity=False,selectBlocks=None):\n",
    "\traw=mne.io.read_raw(rootdir+\"/data/rereferenced/%s/raw_%s_electrode_scalp_eeg.fif\"%(subID,subID))\n",
    "\tif(subID=='pthal101'):\n",
    "\t\traw.drop_channels(['PO7', 'PO8']) #changes in these electrodes causing funny issues with template; may be something with alpha across tasks?!\n",
    "\tprint(raw.ch_names)\n",
    "\traw.load_data()\n",
    "\tif(not selectBlocks is None):\n",
    "\t\tannot=getAnnotations(raw.annotations,selectBlocks)\n",
    "\t\tprint(\"Number of blocks in saccades:%d\"%len(annot))\n",
    "\t\traw=mne.concatenate_raws(raw.crop_by_annotations(annot))\n",
    "\tsampOrig=raw.info['sfreq']\t\n",
    "\ttorig=raw.times\n",
    "\ttaxisSS,sleepScoreThirtySec=readSleepScoreFinal(subID)\n",
    "\tsleepScore=np.repeat(sleepScoreThirtySec,int(np.round(30*sampOrig)))\n",
    "\n",
    "\traw.load_data()\n",
    "\traw.filter(l_freq=None,h_freq=highPassFilter)\n",
    "\traw.resample(resampling)\n",
    "\tprint((raw.times[1]-raw.times[0])*1000)\n",
    "\td=raw.get_data('F7')[0]-raw.get_data('F8')[0]\n",
    "\tmed,mad=runningMAD(d,int(MADwindowInMinutes*60.0*raw.info['sfreq']))\n",
    "\t#d=d-np.median(d)\n",
    "\tangle=(d-med)/mad\n",
    "\t\n",
    "\n",
    "\n",
    "\ttimes=raw.times\n",
    "\t\n",
    "\tvelocity=runningSlope(angle,filtwindow)\n",
    "\n",
    "\n",
    "\tvelocity/=np.median(np.abs(velocity))\n",
    "\t\n",
    "\tsaccadeParams=_getSaccadeParams(angle,velocity,\n",
    "\t\t\tminVelocity=minVelocity,\n",
    "\t\t\tminWidth=minWidth,maxWidth=int(maxWidthInSec*raw.info['sfreq']),\n",
    "\t\t\tvelocityDetectionThreshold=velocityDetectionThreshold)\n",
    "\tsaccadeParams=saccadeParams[np.abs(saccadeParams['amplitude'].values)>minAmplitude]\t\n",
    "\tton=saccadeParams['onsetIndex'].values.astype(\"int\")\n",
    "\ttoff=saccadeParams['offsetIndex'].values.astype(\"int\")\n",
    "\ttpeak=saccadeParams['peakVelocityIndex'].values.astype(\"int\")\n",
    "\tbaseline=saccadeParams['baselineAngle'].values.astype(\"int\")\t\n",
    "\tamp=saccadeParams['amplitude'].values\t\n",
    "\tpeakVel=saccadeParams['peakVelocity'].values\n",
    "\t\n",
    "\tprint(np.min(np.abs(peakVel)),np.max(np.abs(peakVel)))\n",
    "\tprint(np.min(np.abs(amp)),np.max(np.abs(amp)))\n",
    "\t\n",
    "\ttopo=getDeflectionAtEvents(raw.get_data('eeg'),ton,toff)\n",
    "\t#topo=getDeviation(raw.get_data('eeg'),ton,toff,np.sign(peakVel))\t\n",
    "\t#topo=getDerivativeAtEvents(raw.get_data('eeg'),tpeak,filtwindow)\n",
    "\t\n",
    "\tsleepScoreEvents=scipy.interpolate.interp1d(taxisSS,sleepScoreThirtySec,kind='nearest',fill_value=np.nan,bounds_error=False)(times[tpeak])\n",
    "\tsleepScoreEvents[sleepScoreEvents>5]=np.nan\n",
    "\tprint(np.unique(sleepScoreEvents))\n",
    "\tsleepScoreEvents=sleepScoreEvents.astype(\"int\")\n",
    "\tprint(np.nanmax(amp),np.nanmax(peakVel))\n",
    "\t\n",
    "\t#print(np.mean(topo,axis=1,keepdims=True))\n",
    "\t#topo=(topo-np.mean(topo,axis=1,keepdims=True))/np.std(topo,axis=1,keepdims=True)\n",
    "\ttopo=topo*np.expand_dims(np.sign(peakVel),axis=1)\n",
    "\treturn topo,sleepScoreEvents,peakVel,raw.info"
   ]
  },
  {
   "cell_type": "code",
   "execution_count": 32,
   "id": "8e32ecfa",
   "metadata": {},
   "outputs": [
    {
     "name": "stdout",
     "output_type": "stream",
     "text": [
      "Opening raw data file /media/chowdhury/data/thalamus-census//data/rereferenced/p05/raw_p05_electrode_scalp_eeg.fif...\n",
      "    Range : 3532 ... 12597199 =     17.660 ... 62985.995 secs\n",
      "Ready.\n",
      "['Fp1', 'F7', 'T7', 'P7', 'O1', 'F3', 'C3', 'P3', 'Fp2', 'F8', 'T8', 'P8', 'O2', 'F4', 'C4', 'P4', 'sleepScore', 'CPz']\n",
      "Reading 0 ... 12593667  =      0.000 ... 62968.335 secs...\n",
      "Filtering raw data in 1 contiguous segment\n",
      "Setting up low-pass filter at 50 Hz\n",
      "\n",
      "FIR filter parameters\n",
      "---------------------\n",
      "Designing a one-pass, zero-phase, non-causal lowpass filter:\n",
      "- Windowed time-domain design (firwin) method\n",
      "- Hamming window with 0.0194 passband ripple and 53 dB stopband attenuation\n",
      "- Upper passband edge: 50.00 Hz\n",
      "- Upper transition bandwidth: 12.50 Hz (-6 dB cutoff frequency: 56.25 Hz)\n",
      "- Filter length: 53 samples (0.265 s)\n",
      "\n"
     ]
    },
    {
     "name": "stderr",
     "output_type": "stream",
     "text": [
      "[Parallel(n_jobs=1)]: Done  17 tasks      | elapsed:   13.6s\n",
      "[Parallel(n_jobs=1)]: Done  17 tasks      | elapsed:   13.6s\n"
     ]
    },
    {
     "name": "stdout",
     "output_type": "stream",
     "text": [
      "10.0\n",
      "7.002029351531655 77.36885153507922\n",
      "7.001312799082781 54.05065636716061\n",
      "[ 0.  1.  2.  3.  5. nan]\n",
      "54.05065636716061 70.60937353365937\n"
     ]
    },
    {
     "name": "stderr",
     "output_type": "stream",
     "text": [
      "/tmp/ipykernel_72284/3103056920.py:60: RuntimeWarning: invalid value encountered in cast\n",
      "  sleepScoreEvents=sleepScoreEvents.astype(\"int\")\n"
     ]
    }
   ],
   "source": [
    "topo,ss,peakVel,info=getSaccadeParamsFromICA('p05')"
   ]
  },
  {
   "cell_type": "code",
   "execution_count": 35,
   "id": "588298a3",
   "metadata": {},
   "outputs": [],
   "source": [
    "pca=PCA(n_components=3)\n",
    "comp=pca.fit_transform(topo)"
   ]
  },
  {
   "cell_type": "code",
   "execution_count": 36,
   "id": "4e5840dc",
   "metadata": {},
   "outputs": [
    {
     "data": {
      "image/png": "[encoded data removed]",
      "text/plain": [
       "<Figure size 72x72 with 1 Axes>"
      ]
     },
     "metadata": {},
     "output_type": "display_data"
    },
    {
     "data": {
      "image/png": "[encoded data removed]",
      "text/plain": [
       "<Figure size 72x72 with 1 Axes>"
      ]
     },
     "metadata": {},
     "output_type": "display_data"
    },
    {
     "data": {
      "image/png": "[encoded data removed]",
      "text/plain": [
       "<Figure size 72x72 with 1 Axes>"
      ]
     },
     "metadata": {},
     "output_type": "display_data"
    },
    {
     "data": {
      "text/plain": [
       "(<matplotlib.image.AxesImage at 0x768e809e2650>,\n",
       " <matplotlib.contour.QuadContourSet at 0x768e809e3310>)"
      ]
     },
     "execution_count": 36,
     "metadata": {},
     "output_type": "execute_result"
    }
   ],
   "source": [
    "mne.viz.plot_topomap(pca.components_[0], info,show=True)\n",
    "mne.viz.plot_topomap(pca.components_[1], info,show=True)\n",
    "mne.viz.plot_topomap(pca.components_[2], info,show=True)"
   ]
  },
  {
   "cell_type": "code",
   "execution_count": 37,
   "id": "7d92f825",
   "metadata": {},
   "outputs": [],
   "source": [
    "topoNorm=(topo-np.mean(topo,axis=1,keepdims=True))/np.std(topo,axis=1,keepdims=True)\n",
    "pca=PCA(n_components=3)\n",
    "comp=pca.fit_transform(topoNorm)"
   ]
  },
  {
   "cell_type": "code",
   "execution_count": 42,
   "id": "1c296369",
   "metadata": {},
   "outputs": [
    {
     "data": {
      "text/plain": [
       "<matplotlib.collections.PathCollection at 0x768e80af2440>"
      ]
     },
     "execution_count": 42,
     "metadata": {},
     "output_type": "execute_result"
    },
    {
     "data": {
      "image/png": "[encoded data removed]",
      "text/plain": [
       "<Figure size 432x288 with 1 Axes>"
      ]
     },
     "metadata": {
      "needs_background": "light"
     },
     "output_type": "display_data"
    }
   ],
   "source": [
    "plt.scatter(comp[:,1],comp[:,2])"
   ]
  },
  {
   "cell_type": "code",
   "execution_count": 62,
   "id": "54957df5",
   "metadata": {},
   "outputs": [
    {
     "data": {
      "image/png": "[encoded data removed]",
      "text/plain": [
       "<Figure size 72x72 with 1 Axes>"
      ]
     },
     "metadata": {},
     "output_type": "display_data"
    },
    {
     "data": {
      "text/plain": [
       "(<matplotlib.image.AxesImage at 0x768f77f15de0>,\n",
       " <matplotlib.contour.QuadContourSet at 0x768f77f17e50>)"
      ]
     },
     "execution_count": 62,
     "metadata": {},
     "output_type": "execute_result"
    }
   ],
   "source": [
    "mne.viz.plot_topomap(topoNorm[2510], info,show=True)"
   ]
  },
  {
   "cell_type": "code",
   "execution_count": null,
   "id": "d9a6ac1b",
   "metadata": {},
   "outputs": [],
   "source": [
    "import umap.umap_ as umap\n",
    "\n",
    "mapper = umap.UMAP().fit(topoNorm)\n",
    "umap.plot.points(mapper)"
   ]
  },
  {
   "cell_type": "code",
   "execution_count": 65,
   "id": "7cb6911b",
   "metadata": {},
   "outputs": [],
   "source": [
    "import umap"
   ]
  },
  {
   "cell_type": "code",
   "execution_count": 66,
   "id": "eed9c0e0",
   "metadata": {},
   "outputs": [
    {
     "data": {
      "text/plain": [
       "<module 'umap' from '/usr/local/lib/python3.10/dist-packages/umap/__init__.py'>"
      ]
     },
     "execution_count": 66,
     "metadata": {},
     "output_type": "execute_result"
    }
   ],
   "source": [
    "umap"
   ]
  },
  {
   "cell_type": "code",
   "execution_count": 67,
   "id": "91a7e4cc",
   "metadata": {},
   "outputs": [
    {
     "ename": "AttributeError",
     "evalue": "module 'umap' has no attribute 'UMAP'",
     "output_type": "error",
     "traceback": [
      "\u001b[0;31m---------------------------------------------------------------------------\u001b[0m",
      "\u001b[0;31mAttributeError\u001b[0m                            Traceback (most recent call last)",
      "\u001b[0;32m/tmp/ipykernel_72284/792430185.py\u001b[0m in \u001b[0;36m<module>\u001b[0;34m\u001b[0m\n\u001b[0;32m----> 1\u001b[0;31m \u001b[0mumap\u001b[0m\u001b[0;34m.\u001b[0m\u001b[0mUMAP\u001b[0m\u001b[0;34m\u001b[0m\u001b[0;34m\u001b[0m\u001b[0m\n\u001b[0m",
      "\u001b[0;31mAttributeError\u001b[0m: module 'umap' has no attribute 'UMAP'"
     ]
    }
   ],
   "source": [
    "umap.UMAP"
   ]
  },
  {
   "cell_type": "code",
   "execution_count": null,
   "id": "985bf76c",
   "metadata": {},
   "outputs": [],
   "source": []
  }
 ],
 "metadata": {
  "kernelspec": {
   "display_name": "Python 3 (ipykernel)",
   "language": "python",
   "name": "python3"
  },
  "language_info": {
   "codemirror_mode": {
    "name": "ipython",
    "version": 3
   },
   "file_extension": ".py",
   "mimetype": "text/x-python",
   "name": "python",
   "nbconvert_exporter": "python",
   "pygments_lexer": "ipython3",
   "version": "3.10.12"
  }
 },
 "nbformat": 4,
 "nbformat_minor": 5
}
